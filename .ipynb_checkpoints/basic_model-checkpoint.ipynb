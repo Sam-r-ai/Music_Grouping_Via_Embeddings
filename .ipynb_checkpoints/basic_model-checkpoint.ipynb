{
 "cells": [
  {
   "cell_type": "code",
   "execution_count": 1,
   "id": "5cdd44c3-7e51-484c-83f6-c8822f191301",
   "metadata": {},
   "outputs": [
    {
     "name": "stdout",
     "output_type": "stream",
     "text": [
      "Spotify API authenticated successfully!\n"
     ]
    }
   ],
   "source": [
    "# Music Grouping with Spotify API\n",
    "### Goal\n",
    "###To fetch song metadata and audio features using Spotify API, and group songs based on similarities using clustering.\n",
    "\n",
    "import spotipy\n",
    "from spotipy.oauth2 import SpotifyClientCredentials\n",
    "\n",
    "# Set up Spotify API credentials\n",
    "client_id = \"54d28df945034450b2463b6722a10943\"  # Replace with your Client ID\n",
    "client_secret = \"9e1c29ee53624d3e8196ecd5b4bb2b4e\"  # Replace with your Client Secret\n",
    "\n",
    "# Authenticate\n",
    "sp = spotipy.Spotify(client_credentials_manager=SpotifyClientCredentials(\n",
    "    client_id=client_id,\n",
    "    client_secret=client_secret\n",
    "))\n",
    "print(\"Spotify API authenticated successfully!\")\n"
   ]
  },
  {
   "cell_type": "code",
   "execution_count": null,
   "id": "9edd95dd-8277-423e-92d6-ec130fee0950",
   "metadata": {},
   "outputs": [],
   "source": [
    "import pandas as pd\n",
    "\n",
    "# Load the dataset\n",
    "data = pd.read_csv('songs.csv')\n",
    "\n",
    "# Features for clustering\n",
    "numeric_features = data[['tempo', 'energy', 'valence']]\n",
    "\n",
    "# Lyrics for text embeddings\n",
    "lyrics = data['lyrics'].tolist()\n",
    "\n",
    "print(data.head())\n"
   ]
  },
  {
   "cell_type": "code",
   "execution_count": null,
   "id": "fd7a1013-e865-4e51-b5fc-dd18674beda2",
   "metadata": {},
   "outputs": [],
   "source": [
    "from sentence_transformers import SentenceTransformer\n",
    "\n",
    "# Load pre-trained embedding model\n",
    "model = SentenceTransformer('all-MiniLM-L6-v2')\n",
    "\n",
    "# Generate embeddings for lyrics\n",
    "lyric_embeddings = model.encode(lyrics)\n",
    "\n",
    "print(f\"Lyrics Embedding Shape: {lyric_embeddings.shape}\")\n"
   ]
  }
 ],
 "metadata": {
  "kernelspec": {
   "display_name": "Python 3 (ipykernel)",
   "language": "python",
   "name": "python3"
  },
  "language_info": {
   "codemirror_mode": {
    "name": "ipython",
    "version": 3
   },
   "file_extension": ".py",
   "mimetype": "text/x-python",
   "name": "python",
   "nbconvert_exporter": "python",
   "pygments_lexer": "ipython3",
   "version": "3.10.12"
  }
 },
 "nbformat": 4,
 "nbformat_minor": 5
}
