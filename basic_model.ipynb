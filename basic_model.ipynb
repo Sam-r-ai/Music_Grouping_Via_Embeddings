{
 "cells": [
  {
   "cell_type": "code",
   "execution_count": 1,
   "id": "5cdd44c3-7e51-484c-83f6-c8822f191301",
   "metadata": {},
   "outputs": [
    {
     "name": "stdout",
     "output_type": "stream",
     "text": [
      "Spotify API is working!\n",
      "{'categories': {'href': 'https://api.spotify.com/v1/browse/categories?offset=0&limit=5', 'items': [{'href': 'https://api.spotify.com/v1/browse/categories/0JQ5DAqbMKFC7do0jUgBzi', 'id': '0JQ5DAqbMKFC7do0jUgBzi', 'icons': [{'height': 274, 'url': 'https://t.scdn.co/images/728ed47fc1674feb95f7ac20236eb6d7.jpeg', 'width': 274}], 'name': '2024 in Music'}, {'href': 'https://api.spotify.com/v1/browse/categories/0JQ5DAt0tbjZptfcdMSKl3', 'id': '0JQ5DAt0tbjZptfcdMSKl3', 'icons': [{'height': 274, 'url': 'https://t.scdn.co/images/728ed47fc1674feb95f7ac20236eb6d7.jpeg', 'width': 274}], 'name': 'Made For You'}, {'href': 'https://api.spotify.com/v1/browse/categories/0JQ5DAqbMKFGaKcChsSgUO', 'id': '0JQ5DAqbMKFGaKcChsSgUO', 'icons': [{'height': 274, 'url': 'https://t.scdn.co/images/728ed47fc1674feb95f7ac20236eb6d7.jpeg', 'width': 274}], 'name': 'New Releases'}, {'href': 'https://api.spotify.com/v1/browse/categories/0JQ5DAqbMKFDKyRxRDLIbk', 'id': '0JQ5DAqbMKFDKyRxRDLIbk', 'icons': [{'height': 274, 'url': 'https://t.scdn.co/images/dec76a385201436281efb6796a54f479.jpeg', 'width': 274}], 'name': 'Happy Holidays'}, {'href': 'https://api.spotify.com/v1/browse/categories/0JQ5DAqbMKFQ00XGBls6ym', 'id': '0JQ5DAqbMKFQ00XGBls6ym', 'icons': [{'height': 274, 'url': 'https://t.scdn.co/images/728ed47fc1674feb95f7ac20236eb6d7.jpeg', 'width': 274}], 'name': 'Hip-Hop'}], 'limit': 5, 'next': 'https://api.spotify.com/v1/browse/categories?offset=5&limit=5', 'offset': 0, 'previous': None, 'total': 63}}\n"
     ]
    }
   ],
   "source": [
    "# Music Grouping with Spotify API\n",
    "### Goal\n",
    "###To fetch song metadata and audio features using Spotify API, and group songs based on similarities using clustering.\n",
    "\n",
    "from dotenv import load_dotenv\n",
    "import os\n",
    "import spotipy\n",
    "from spotipy.oauth2 import SpotifyClientCredentials\n",
    "\n",
    "# Load credentials from .env\n",
    "load_dotenv()\n",
    "client_id = os.getenv(\"SPOTIFY_CLIENT_ID\")\n",
    "client_secret = os.getenv(\"SPOTIFY_CLIENT_SECRET\")\n",
    "\n",
    "# Authenticate\n",
    "sp = spotipy.Spotify(client_credentials_manager=SpotifyClientCredentials(\n",
    "    client_id=client_id,\n",
    "    client_secret=client_secret\n",
    "))\n",
    "\n",
    "# Test by fetching Spotify categories\n",
    "categories = sp.categories(limit=5)\n",
    "print(\"Spotify API is working!\")\n",
    "print(categories)\n",
    "\n"
   ]
  },
  {
   "cell_type": "code",
   "execution_count": null,
   "id": "9edd95dd-8277-423e-92d6-ec130fee0950",
   "metadata": {},
   "outputs": [],
   "source": [
    "import pandas as pd\n",
    "\n",
    "# Load the dataset\n",
    "data = pd.read_csv('songs.csv')\n",
    "\n",
    "# Features for clustering\n",
    "numeric_features = data[['tempo', 'energy', 'valence']]\n",
    "\n",
    "# Lyrics for text embeddings\n",
    "lyrics = data['lyrics'].tolist()\n",
    "\n",
    "print(data.head())\n"
   ]
  },
  {
   "cell_type": "code",
   "execution_count": null,
   "id": "fd7a1013-e865-4e51-b5fc-dd18674beda2",
   "metadata": {},
   "outputs": [],
   "source": [
    "from sentence_transformers import SentenceTransformer\n",
    "\n",
    "# Load pre-trained embedding model\n",
    "model = SentenceTransformer('all-MiniLM-L6-v2')\n",
    "\n",
    "# Generate embeddings for lyrics\n",
    "lyric_embeddings = model.encode(lyrics)\n",
    "\n",
    "print(f\"Lyrics Embedding Shape: {lyric_embeddings.shape}\")\n"
   ]
  }
 ],
 "metadata": {
  "kernelspec": {
   "display_name": "Python 3 (ipykernel)",
   "language": "python",
   "name": "python3"
  },
  "language_info": {
   "codemirror_mode": {
    "name": "ipython",
    "version": 3
   },
   "file_extension": ".py",
   "mimetype": "text/x-python",
   "name": "python",
   "nbconvert_exporter": "python",
   "pygments_lexer": "ipython3",
   "version": "3.10.12"
  }
 },
 "nbformat": 4,
 "nbformat_minor": 5
}
