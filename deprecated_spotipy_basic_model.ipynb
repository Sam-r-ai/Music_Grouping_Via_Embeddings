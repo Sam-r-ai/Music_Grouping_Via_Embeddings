{
 "cells": [
  {
   "cell_type": "code",
   "execution_count": 2,
   "id": "5cdd44c3-7e51-484c-83f6-c8822f191301",
   "metadata": {},
   "outputs": [
    {
     "name": "stdout",
     "output_type": "stream",
     "text": [
      "Access token: BQANPqsNvzIz9kTp78BKYUQ4GOD11GaSwYqqv2sIClR8CuRVNK872R4YHXzkrM46j8GSmt-qu7y94xVlXVFxOiFUmrxZtKDyAfN1RrHS3EaaS02Q5r4\n",
      "Fetched categories:\n",
      "- 2024 in Music (ID: 0JQ5DAqbMKFC7do0jUgBzi)\n",
      "- Made For You (ID: 0JQ5DAt0tbjZptfcdMSKl3)\n",
      "- New Releases (ID: 0JQ5DAqbMKFGaKcChsSgUO)\n",
      "- Happy Holidays (ID: 0JQ5DAqbMKFDKyRxRDLIbk)\n",
      "- Hip-Hop (ID: 0JQ5DAqbMKFQ00XGBls6ym)\n"
     ]
    }
   ],
   "source": [
    "# Music Grouping with Spotify API\n",
    "### Goal\n",
    "###To fetch song metadata and audio features using Spotify API, and group songs based on similarities using clustering.\n",
    "\n",
    "from dotenv import load_dotenv\n",
    "import os\n",
    "import spotipy\n",
    "from spotipy.oauth2 import SpotifyClientCredentials\n",
    "import requests\n",
    "\n",
    "# Load credentials from .env\n",
    "load_dotenv()\n",
    "client_id = os.getenv(\"SPOTIFY_CLIENT_ID\")\n",
    "client_secret = os.getenv(\"SPOTIFY_CLIENT_SECRET\")\n",
    "\n",
    "# Token endpoint URL\n",
    "TOKEN_URL = \"https://accounts.spotify.com/api/token\"\n",
    "\n",
    "# Function to fetch access token\n",
    "def get_access_token(client_id, client_secret):\n",
    "    headers = {\n",
    "        \"Content-Type\": \"application/x-www-form-urlencoded\"\n",
    "    }\n",
    "    data = {\n",
    "        \"grant_type\": \"client_credentials\",\n",
    "        \"client_id\": client_id,\n",
    "        \"client_secret\": client_secret\n",
    "    }\n",
    "    response = requests.post(TOKEN_URL, headers=headers, data=data)\n",
    "    if response.status_code == 200:\n",
    "        token_info = response.json()\n",
    "        access_token = token_info['access_token']\n",
    "        print(f\"Access token: {access_token}\")\n",
    "        return access_token\n",
    "    else:\n",
    "        print(f\"Failed to fetch access token. Status code: {response.status_code}\")\n",
    "        print(f\"Response: {response.text}\")\n",
    "        return None\n",
    "\n",
    "# Fetch access token\n",
    "access_token = get_access_token(client_id, client_secret)\n",
    "\n",
    "# Initialize Spotipy with the token\n",
    "if access_token:\n",
    "    sp = spotipy.Spotify(auth=access_token)\n",
    "else:\n",
    "    print(\"Spotify API authentication failed. Exiting.\")\n",
    "    exit()\n",
    "\n",
    "# Test Spotify API by fetching categories\n",
    "def test_spotify_api():\n",
    "    try:\n",
    "        categories = sp.categories(limit=5)\n",
    "        print(\"Fetched categories:\")\n",
    "        for category in categories['categories']['items']:\n",
    "            print(f\"- {category['name']} (ID: {category['id']})\")\n",
    "    except Exception as e:\n",
    "        print(f\"Error while testing Spotify API: {e}\")\n",
    "\n",
    "# Call test function\n",
    "test_spotify_api()\n"
   ]
  },
  {
   "cell_type": "code",
   "execution_count": 3,
   "id": "9edd95dd-8277-423e-92d6-ec130fee0950",
   "metadata": {},
   "outputs": [
    {
     "name": "stdout",
     "output_type": "stream",
     "text": [
      "Fetched 50 tracks.\n",
      "- APT. by ROSÉ\n",
      "- That’s So True by Gracie Abrams\n",
      "- luther (with sza) by Kendrick Lamar\n",
      "- BIRDS OF A FEATHER by Billie Eilish\n",
      "- Taste by Sabrina Carpenter\n",
      "- Die With A Smile by Lady Gaga\n",
      "- Good Luck, Babe! by Chappell Roan\n",
      "- Sailor Song by Gigi Perez\n",
      "- toxic till the end by ROSÉ\n",
      "- WILDFLOWER by Billie Eilish\n",
      "- Please Please Please by Sabrina Carpenter\n",
      "- HOT TO GO! by Chappell Roan\n",
      "- Timeless (with Playboi Carti) by The Weeknd\n",
      "- A Bar Song (Tipsy) by Shaboozey\n",
      "- Guess featuring billie eilish by Charli xcx\n",
      "- Diet Pepsi by Addison Rae\n",
      "- Moonlit Floor (Kiss Me) by LISA\n",
      "- EL CLúB by Bad Bunny\n",
      "- I Love You, I'm Sorry by Gracie Abrams\n",
      "- MILLION DOLLAR BABY by Tommy Richman\n",
      "- Sticky (feat. GloRilla, Sexyy Red & Lil Wayne) by Tyler, The Creator\n",
      "- Espresso by Sabrina Carpenter\n",
      "- 2 hands by Tate McRae\n",
      "- I Had Some Help (Feat. Morgan Wallen) by Post Malone\n",
      "- Too Sweet by Hozier\n",
      "- Mantra by JENNIE\n",
      "- No One Noticed by The Marías\n",
      "- Messy by Lola Young\n",
      "- NEW DROP by Don Toliver\n",
      "- Qué Pasaría... by Rauw Alejandro\n",
      "- Stargazing by Myles Smith\n",
      "- we can't be friends (wait for your love) by Ariana Grande\n",
      "- Beautiful Things by Benson Boone\n",
      "- Love Somebody by Morgan Wallen\n",
      "- Tu Boda by Oscar Maydon\n",
      "- Disease by Lady Gaga\n",
      "- Ma Meilleure Ennemie (from the series Arcane League of Legends) by Stromae\n",
      "- squabble up by Kendrick Lamar\n",
      "- Austin (Boots Stop Workin') by Dasha\n",
      "- Touch by KATSEYE\n",
      "- Lose Control by Teddy Swims\n",
      "- DEGENERE 👑 (feat. benny blanco) by Myke Towers\n",
      "- Si Antes Te Hubiera Conocido by KAROL G\n",
      "- Fortnight (feat. Post Malone) by Taylor Swift\n",
      "- WHATCHU KNO ABOUT ME (with Sexyy Red) by GloRilla\n",
      "- Embrace It by Ndotz\n",
      "- Who by Jimin\n",
      "- Q U E V A S H A C E R H O Y ? by Omar Courtz\n",
      "- The Emptiness Machine by Linkin Park\n",
      "- Running Wild by Jin\n"
     ]
    }
   ],
   "source": [
    "# Function to fetch tracks from a Spotify playlist\n",
    "def get_playlist_tracks(playlist_id, access_token, limit=50):\n",
    "    url = f\"https://api.spotify.com/v1/playlists/{playlist_id}/tracks\"\n",
    "    headers = {\n",
    "        \"Authorization\": f\"Bearer {access_token}\"\n",
    "    }\n",
    "    params = {\n",
    "        \"limit\": limit\n",
    "    }\n",
    "\n",
    "    response = requests.get(url, headers=headers, params=params)\n",
    "    \n",
    "    if response.status_code == 200:\n",
    "        results = response.json()\n",
    "        tracks = [\n",
    "            {\n",
    "                'name': item['track']['name'],\n",
    "                'artist': item['track']['artists'][0]['name'],\n",
    "                'id': item['track']['id']\n",
    "            }\n",
    "            for item in results['items']\n",
    "        ]\n",
    "        return tracks\n",
    "    else:\n",
    "        raise Exception(f\"Failed to fetch playlist tracks. Status code: {response.status_code}, Response: {response.text}\")\n",
    "\n",
    "# Replace with your actual playlist ID \n",
    "playlist_id = \"67QRExTNn4kytNrr3ugJ3B\"\n",
    "\n",
    "# Fetch tracks and handle errors\n",
    "try:\n",
    "    tracks = get_playlist_tracks(playlist_id, access_token)\n",
    "    print(f\"Fetched {len(tracks)} tracks.\")\n",
    "    for track in tracks:\n",
    "        print(f\"- {track['name']} by {track['artist']}\")\n",
    "except Exception as e:\n",
    "    print(f\"Error fetching playlist: {e}\")\n"
   ]
  },
  {
   "cell_type": "code",
   "execution_count": 5,
   "id": "1561ee30-bade-461a-a3db-aaceb9225044",
   "metadata": {},
   "outputs": [
    {
     "name": "stdout",
     "output_type": "stream",
     "text": [
      "['5vNRhkKd0yEAg8suGBpjeY', '7ne4VBA60CxGM75vw0EYad', '45J4avUb9Ni0bnETYaYFVJ', '6dOtVTDdiauQNBQEDOtlAB', '1d7Ptw3qYcfpdLNL5REhtJ', '2plbrEY59IikOBgBGLjaoe', '0WbMK4wrZ1wFSty9F7FCgu', '2262bWmqomIaJXwCRHr13j', '1z5ebC9238uGoBgzYyvGpQ', '3QaPy1KgI7nu9FJEQUgn6h', '5N3hjp1WNayUPZrA8kJmJP', '4xdBrk0nFZaP54vvZj0yx7', '1Es7AUAhQvapIcoh3qMKDL', '2FQrifJ1N335Ljm3TjTVVf', '3WOhcATHxK2SLNeP5W3v1v', '6MzofobZt2dm0Kf1hTThFz', '5G345YEhvleYxQLfYUlEFv', '3zOgFY5kpQ6p2cwPIquZks', '51rfRCiUSvxXlCSCfIztBy', '5AJ9hqTS2wcFQCELCFRO7A', '3tFed7YsjGnIfxeLEQwx3R', '2qSkIjg1o9h3YT9RAgYN75', '1f18HzFpegqvH4ibGJyeMJ', '7221xIgOnuakPdLqT0F3nP', '4IadxL6BUymXlh8RCJJu7T', '2CspwnypzT7rcWI9RfsoSb', '3siwsiaEoU4Kuuc9WKMUy5', '3SKH53SPQbEnZR4cJPVaz2', '2c7z5oRcPBbqRaBY2mLWcf', '0l0vcZMU7AOeQmUIREoI2U', '3Vr3zh0r7ALn8VLqCiRR10', '46kspZSY3aKmwQe7O77fCC', '6tNQ70jh4OwmPGpYy6R2o9', '7hR22TOX3RorxJPcsz5Wbo', '1cOboCuWYI2osTOfolMRS6', '19KlZwqlT3fguP2BeHF1Q1', '4lriIG2vNqwDWzOj2I9rtj', '0nj9Bq5sHDiTxSHunhgkFb', '2uqYupMHANxnwgeiXTZXzd', '6aJn7Cst74cj4lNIiPRgav', '17phhZDn6oGtzMe56NuWvj', '0qeIFEGRQqHoaJtLCl0U73', '6WatFBLVB0x077xWeoVc2k', '2OzhQlSqBEmt7hmkYxfT6m', '4VI2Y5xg4gYynQqNQNQbTN', '0io16MKpbeDIdYzmGpQaES', '7tI8dRuH2Yc6RuoTjxo4dU', '0Sr7ssScx54yxdM2ols7nW', '2PnlsTsOTLE5jnBnNe2K0A', '4p7DTkyrKqT98xlIwYYfXz']\n"
     ]
    }
   ],
   "source": [
    "print(track_ids)"
   ]
  },
  {
   "cell_type": "code",
   "execution_count": 4,
   "id": "942e330e-7115-43eb-b5ce-245235edd610",
   "metadata": {},
   "outputs": [
    {
     "ename": "Exception",
     "evalue": "Failed to fetch audio features. Status code: 403, Response: {\n  \"error\" : {\n    \"status\" : 403\n  }\n}",
     "output_type": "error",
     "traceback": [
      "\u001b[0;31m---------------------------------------------------------------------------\u001b[0m",
      "\u001b[0;31mException\u001b[0m                                 Traceback (most recent call last)",
      "Cell \u001b[0;32mIn[4], line 17\u001b[0m\n\u001b[1;32m     14\u001b[0m track_ids \u001b[38;5;241m=\u001b[39m [track[\u001b[38;5;124m'\u001b[39m\u001b[38;5;124mid\u001b[39m\u001b[38;5;124m'\u001b[39m] \u001b[38;5;28;01mfor\u001b[39;00m track \u001b[38;5;129;01min\u001b[39;00m tracks]\n\u001b[1;32m     16\u001b[0m \u001b[38;5;66;03m# Fetch audio features\u001b[39;00m\n\u001b[0;32m---> 17\u001b[0m audio_features \u001b[38;5;241m=\u001b[39m \u001b[43mget_audio_features\u001b[49m\u001b[43m(\u001b[49m\u001b[43mtrack_ids\u001b[49m\u001b[43m,\u001b[49m\u001b[43m \u001b[49m\u001b[43maccess_token\u001b[49m\u001b[43m)\u001b[49m\n\u001b[1;32m     18\u001b[0m \u001b[38;5;28mprint\u001b[39m(\u001b[38;5;124mf\u001b[39m\u001b[38;5;124m\"\u001b[39m\u001b[38;5;124mFetched audio features for \u001b[39m\u001b[38;5;132;01m{\u001b[39;00m\u001b[38;5;28mlen\u001b[39m(audio_features)\u001b[38;5;132;01m}\u001b[39;00m\u001b[38;5;124m tracks.\u001b[39m\u001b[38;5;124m\"\u001b[39m)\n",
      "Cell \u001b[0;32mIn[4], line 11\u001b[0m, in \u001b[0;36mget_audio_features\u001b[0;34m(track_ids, access_token)\u001b[0m\n\u001b[1;32m      9\u001b[0m     \u001b[38;5;28;01mreturn\u001b[39;00m response\u001b[38;5;241m.\u001b[39mjson()[\u001b[38;5;124m'\u001b[39m\u001b[38;5;124maudio_features\u001b[39m\u001b[38;5;124m'\u001b[39m]\n\u001b[1;32m     10\u001b[0m \u001b[38;5;28;01melse\u001b[39;00m:\n\u001b[0;32m---> 11\u001b[0m     \u001b[38;5;28;01mraise\u001b[39;00m \u001b[38;5;167;01mException\u001b[39;00m(\u001b[38;5;124mf\u001b[39m\u001b[38;5;124m\"\u001b[39m\u001b[38;5;124mFailed to fetch audio features. Status code: \u001b[39m\u001b[38;5;132;01m{\u001b[39;00mresponse\u001b[38;5;241m.\u001b[39mstatus_code\u001b[38;5;132;01m}\u001b[39;00m\u001b[38;5;124m, Response: \u001b[39m\u001b[38;5;132;01m{\u001b[39;00mresponse\u001b[38;5;241m.\u001b[39mtext\u001b[38;5;132;01m}\u001b[39;00m\u001b[38;5;124m\"\u001b[39m)\n",
      "\u001b[0;31mException\u001b[0m: Failed to fetch audio features. Status code: 403, Response: {\n  \"error\" : {\n    \"status\" : 403\n  }\n}"
     ]
    }
   ],
   "source": [
    "#Fetch Audio features for tracks\n",
    "def get_audio_features(track_ids, access_token):\n",
    "    url = \"https://api.spotify.com/v1/audio-features\"\n",
    "    headers = {\"Authorization\": f\"Bearer {access_token}\"}\n",
    "    params = {\"ids\": \",\".join(track_ids)}  # Join track IDs as a comma-separated string\n",
    "\n",
    "    response = requests.get(url, headers=headers, params=params)\n",
    "    if response.status_code == 200:\n",
    "        return response.json()['audio_features']\n",
    "    else:\n",
    "        raise Exception(f\"Failed to fetch audio features. Status code: {response.status_code}, Response: {response.text}\")\n",
    "\n",
    "# Get track IDs\n",
    "track_ids = [track['id'] for track in tracks]\n",
    "\n",
    "# Fetch audio features\n",
    "audio_features = get_audio_features(track_ids, access_token)\n",
    "print(f\"Fetched audio features for {len(audio_features)} tracks.\")"
   ]
  },
  {
   "cell_type": "code",
   "execution_count": null,
   "id": "e1d7daac-858e-4598-8f0e-cb46ce7a3e30",
   "metadata": {},
   "outputs": [],
   "source": []
  }
 ],
 "metadata": {
  "kernelspec": {
   "display_name": "Python 3 (ipykernel)",
   "language": "python",
   "name": "python3"
  },
  "language_info": {
   "codemirror_mode": {
    "name": "ipython",
    "version": 3
   },
   "file_extension": ".py",
   "mimetype": "text/x-python",
   "name": "python",
   "nbconvert_exporter": "python",
   "pygments_lexer": "ipython3",
   "version": "3.10.12"
  }
 },
 "nbformat": 4,
 "nbformat_minor": 5
}
